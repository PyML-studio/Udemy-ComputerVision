{
 "cells": [
  {
   "cell_type": "code",
   "execution_count": 1,
   "metadata": {},
   "outputs": [
    {
     "name": "stdout",
     "output_type": "stream",
     "text": [
      "Intel MKL WARNING: Support of Intel(R) Streaming SIMD Extensions 4.2 (Intel(R) SSE4.2) enabled only processors has been deprecated. Intel oneAPI Math Kernel Library 2025.0 will require Intel(R) Advanced Vector Extensions (Intel(R) AVX) instructions.\n",
      "Intel MKL WARNING: Support of Intel(R) Streaming SIMD Extensions 4.2 (Intel(R) SSE4.2) enabled only processors has been deprecated. Intel oneAPI Math Kernel Library 2025.0 will require Intel(R) Advanced Vector Extensions (Intel(R) AVX) instructions.\n",
      "Intel MKL WARNING: Support of Intel(R) Streaming SIMD Extensions 4.2 (Intel(R) SSE4.2) enabled only processors has been deprecated. Intel oneAPI Math Kernel Library 2025.0 will require Intel(R) Advanced Vector Extensions (Intel(R) AVX) instructions.\n",
      "Intel MKL WARNING: Support of Intel(R) Streaming SIMD Extensions 4.2 (Intel(R) SSE4.2) enabled only processors has been deprecated. Intel oneAPI Math Kernel Library 2025.0 will require Intel(R) Advanced Vector Extensions (Intel(R) AVX) instructions.\n"
     ]
    }
   ],
   "source": [
    "import fiftyone as fo\n",
    "import fiftyone.zoo as foz\n",
    "\n",
    "import pandas as pd\n",
    "from sklearn.model_selection import train_test_split\n",
    "\n",
    "from loguru import logger"
   ]
  },
  {
   "cell_type": "markdown",
   "metadata": {},
   "source": [
    "## Download COCO-2017 dataset\n",
    "\n",
    "**Selected classes for multi-class classification:**\n",
    " * cat\n",
    " * dog\n",
    " * horse\n"
   ]
  },
  {
   "cell_type": "code",
   "execution_count": 2,
   "metadata": {},
   "outputs": [
    {
     "data": {
      "text/plain": [
       "['coco-2017-1000',\n",
       " 'coco-2017-train-validation-2000',\n",
       " 'coco-2017-validation-25',\n",
       " 'my-classification-dataset',\n",
       " 'my-detection-dataset',\n",
       " 'my-segmentation-dataset']"
      ]
     },
     "execution_count": 2,
     "metadata": {},
     "output_type": "execute_result"
    }
   ],
   "source": [
    "fo.list_datasets()"
   ]
  },
  {
   "cell_type": "code",
   "execution_count": 3,
   "metadata": {},
   "outputs": [
    {
     "name": "stdout",
     "output_type": "stream",
     "text": [
      "Downloading split 'train' to '/Users/mlstudio/fiftyone/coco-2017/train' if necessary\n",
      "Found annotations at '/Users/mlstudio/fiftyone/coco-2017/raw/instances_train2017.json'\n",
      "Sufficient images already downloaded\n",
      "Existing download of split 'train' is sufficient\n",
      "Downloading split 'validation' to '/Users/mlstudio/fiftyone/coco-2017/validation' if necessary\n",
      "Found annotations at '/Users/mlstudio/fiftyone/coco-2017/raw/instances_val2017.json'\n",
      "Only found 473 (<2000) samples matching your requirements\n",
      "Sufficient images already downloaded\n",
      "Existing download of split 'validation' is sufficient\n",
      "Loading existing dataset 'coco-2017-train-validation-2000'. To reload from disk, either delete the existing dataset or provide a custom `dataset_name` to use\n",
      "Intel MKL WARNING: Support of Intel(R) Streaming SIMD Extensions 4.2 (Intel(R) SSE4.2) enabled only processors has been deprecated. Intel oneAPI Math Kernel Library 2025.0 will require Intel(R) Advanced Vector Extensions (Intel(R) AVX) instructions.\n",
      "Intel MKL WARNING: Support of Intel(R) Streaming SIMD Extensions 4.2 (Intel(R) SSE4.2) enabled only processors has been deprecated. Intel oneAPI Math Kernel Library 2025.0 will require Intel(R) Advanced Vector Extensions (Intel(R) AVX) instructions.\n",
      "Session launched. Run `session.show()` to open the App in a cell output.\n"
     ]
    },
    {
     "data": {
      "text/plain": [
       "Dataset:          coco-2017-train-validation-2000\n",
       "Media type:       image\n",
       "Num samples:      2473\n",
       "Selected samples: 0\n",
       "Selected labels:  0\n",
       "Session URL:      http://localhost:5151/"
      ]
     },
     "execution_count": 3,
     "metadata": {},
     "output_type": "execute_result"
    }
   ],
   "source": [
    "dataset = foz.load_zoo_dataset(\n",
    "    \"coco-2017\",\n",
    "    splits=[\"train\", \"validation\"],\n",
    "    classes=[\"cat\", \"dog\", \"horse\"],\n",
    "    max_samples=2000,\n",
    "    only_matching=True,\n",
    ")\n",
    "\n",
    "\n",
    "session = fo.launch_app(dataset, auto=False)\n",
    "session"
   ]
  },
  {
   "cell_type": "code",
   "execution_count": 4,
   "metadata": {},
   "outputs": [
    {
     "data": {
      "text/plain": [
       "<Sample: {\n",
       "    'id': '66f97c74ffafd310dd30b634',\n",
       "    'media_type': 'image',\n",
       "    'filepath': '/Users/mlstudio/fiftyone/coco-2017/train/data/000000000042.jpg',\n",
       "    'tags': ['train'],\n",
       "    'metadata': <ImageMetadata: {\n",
       "        'size_bytes': None,\n",
       "        'mime_type': None,\n",
       "        'width': 640,\n",
       "        'height': 478,\n",
       "        'num_channels': None,\n",
       "    }>,\n",
       "    'ground_truth': <Detections: {\n",
       "        'detections': [\n",
       "            <Detection: {\n",
       "                'id': '66f97c74ffafd310dd30b633',\n",
       "                'attributes': {},\n",
       "                'tags': [],\n",
       "                'label': 'dog',\n",
       "                'bounding_box': [0.334609375, 0.0863807531380753, 0.54415625, 0.51],\n",
       "                'mask': None,\n",
       "                'confidence': None,\n",
       "                'index': None,\n",
       "                'supercategory': 'animal',\n",
       "                'iscrowd': 0,\n",
       "            }>,\n",
       "        ],\n",
       "    }>,\n",
       "}>"
      ]
     },
     "execution_count": 4,
     "metadata": {},
     "output_type": "execute_result"
    }
   ],
   "source": [
    "sample = dataset.first()\n",
    "\n",
    "sample"
   ]
  },
  {
   "cell_type": "markdown",
   "metadata": {},
   "source": [
    "## Filtering samples for multi-class\n",
    "\n",
    "*Remove any sample that has more than one label\""
   ]
  },
  {
   "cell_type": "code",
   "execution_count": 5,
   "metadata": {},
   "outputs": [
    {
     "data": {
      "text/html": [
       "<div>\n",
       "<style scoped>\n",
       "    .dataframe tbody tr th:only-of-type {\n",
       "        vertical-align: middle;\n",
       "    }\n",
       "\n",
       "    .dataframe tbody tr th {\n",
       "        vertical-align: top;\n",
       "    }\n",
       "\n",
       "    .dataframe thead th {\n",
       "        text-align: right;\n",
       "    }\n",
       "</style>\n",
       "<table border=\"1\" class=\"dataframe\">\n",
       "  <thead>\n",
       "    <tr style=\"text-align: right;\">\n",
       "      <th></th>\n",
       "      <th>filepath</th>\n",
       "      <th>label</th>\n",
       "      <th>tag</th>\n",
       "    </tr>\n",
       "  </thead>\n",
       "  <tbody>\n",
       "    <tr>\n",
       "      <th>0</th>\n",
       "      <td>/Users/mlstudio/fiftyone/coco-2017/train/data/...</td>\n",
       "      <td>dog</td>\n",
       "      <td>train</td>\n",
       "    </tr>\n",
       "    <tr>\n",
       "      <th>1</th>\n",
       "      <td>/Users/mlstudio/fiftyone/coco-2017/train/data/...</td>\n",
       "      <td>horse</td>\n",
       "      <td>train</td>\n",
       "    </tr>\n",
       "    <tr>\n",
       "      <th>2</th>\n",
       "      <td>/Users/mlstudio/fiftyone/coco-2017/train/data/...</td>\n",
       "      <td>dog</td>\n",
       "      <td>train</td>\n",
       "    </tr>\n",
       "    <tr>\n",
       "      <th>3</th>\n",
       "      <td>/Users/mlstudio/fiftyone/coco-2017/train/data/...</td>\n",
       "      <td>dog</td>\n",
       "      <td>train</td>\n",
       "    </tr>\n",
       "    <tr>\n",
       "      <th>4</th>\n",
       "      <td>/Users/mlstudio/fiftyone/coco-2017/train/data/...</td>\n",
       "      <td>dog</td>\n",
       "      <td>train</td>\n",
       "    </tr>\n",
       "  </tbody>\n",
       "</table>\n",
       "</div>"
      ],
      "text/plain": [
       "                                            filepath  label    tag\n",
       "0  /Users/mlstudio/fiftyone/coco-2017/train/data/...    dog  train\n",
       "1  /Users/mlstudio/fiftyone/coco-2017/train/data/...  horse  train\n",
       "2  /Users/mlstudio/fiftyone/coco-2017/train/data/...    dog  train\n",
       "3  /Users/mlstudio/fiftyone/coco-2017/train/data/...    dog  train\n",
       "4  /Users/mlstudio/fiftyone/coco-2017/train/data/...    dog  train"
      ]
     },
     "execution_count": 5,
     "metadata": {},
     "output_type": "execute_result"
    }
   ],
   "source": [
    "list_samples = []\n",
    "\n",
    "for sample in dataset:\n",
    "    if sample[\"ground_truth.detections\"] is None:\n",
    "        continue\n",
    "    labels = set([det[\"label\"] for det in sample[\"ground_truth.detections\"]])\n",
    "    tag = sample[\"tags\"][0]\n",
    "    if len(labels) == 1:\n",
    "        list_samples.append((sample[\"filepath\"], labels.pop(), tag))\n",
    "\n",
    "df = pd.DataFrame(list_samples, columns=[\"filepath\", \"label\", \"tag\"])\n",
    "df.head()"
   ]
  },
  {
   "cell_type": "code",
   "execution_count": 6,
   "metadata": {},
   "outputs": [
    {
     "data": {
      "text/plain": [
       "<Axes: title={'center': 'Number of samples per split'}, xlabel='tag'>"
      ]
     },
     "execution_count": 6,
     "metadata": {},
     "output_type": "execute_result"
    },
    {
     "data": {
      "image/png": "[encoded data removed]",
      "text/plain": [
       "<Figure size 640x480 with 1 Axes>"
      ]
     },
     "metadata": {},
     "output_type": "display_data"
    }
   ],
   "source": [
    "# bar plot of train/test/validation split\n",
    "df[\"tag\"].value_counts().plot(\n",
    "    kind=\"bar\", alpha=0.5, edgecolor=\"black\",\n",
    "    title=\"Number of samples per split\"\n",
    ")"
   ]
  },
  {
   "cell_type": "code",
   "execution_count": 7,
   "metadata": {},
   "outputs": [
    {
     "data": {
      "text/plain": [
       "<Axes: title={'center': 'Label distribution'}, xlabel='label'>"
      ]
     },
     "execution_count": 7,
     "metadata": {},
     "output_type": "execute_result"
    },
    {
     "data": {
      "image/png": "[encoded data removed]",
      "text/plain": [
       "<Figure size 640x480 with 1 Axes>"
      ]
     },
     "metadata": {},
     "output_type": "display_data"
    }
   ],
   "source": [
    "# bar plot of label distribution\n",
    "df[\"label\"].value_counts().plot(\n",
    "    kind=\"bar\", alpha=0.7, edgecolor=\"black\",\n",
    "    title=\"Label distribution\"\n",
    ")"
   ]
  },
  {
   "cell_type": "code",
   "execution_count": 8,
   "metadata": {},
   "outputs": [
    {
     "name": "stderr",
     "output_type": "stream",
     "text": [
      "\u001b[32m2024-09-29 11:15:32.991\u001b[0m | \u001b[1mINFO    \u001b[0m | \u001b[36m__main__\u001b[0m:\u001b[36m<module>\u001b[0m:\u001b[36m1\u001b[0m - \u001b[1mNumber of samples: 2406\u001b[0m\n",
      "\u001b[32m2024-09-29 11:15:32.992\u001b[0m | \u001b[1mINFO    \u001b[0m | \u001b[36m__main__\u001b[0m:\u001b[36m<module>\u001b[0m:\u001b[36m2\u001b[0m - \u001b[1mNumber of unique labels: 3\u001b[0m\n",
      "\u001b[32m2024-09-29 11:15:32.994\u001b[0m | \u001b[1mINFO    \u001b[0m | \u001b[36m__main__\u001b[0m:\u001b[36m<module>\u001b[0m:\u001b[36m3\u001b[0m - \u001b[1mNumber of Train samples: 1949\u001b[0m\n",
      "\u001b[32m2024-09-29 11:15:32.995\u001b[0m | \u001b[1mINFO    \u001b[0m | \u001b[36m__main__\u001b[0m:\u001b[36m<module>\u001b[0m:\u001b[36m4\u001b[0m - \u001b[1mNumber of Validation samples: 457\u001b[0m\n"
     ]
    }
   ],
   "source": [
    "logger.info(f\"Number of samples: {len(df)}\")\n",
    "logger.info(f\"Number of unique labels: {len(df['label'].unique())}\")\n",
    "logger.info(f\"Number of Train samples: {len(df[df['tag'] == 'train'])}\")\n",
    "logger.info(f\"Number of Validation samples: {len(df[df['tag'] == 'validation'])}\")\n"
   ]
  },
  {
   "cell_type": "code",
   "execution_count": 9,
   "metadata": {},
   "outputs": [],
   "source": [
    "# use current validation set as test set\n",
    "df_test = df[df[\"tag\"] == \"validation\"].reset_index(drop=True)\n",
    "df_test[\"tag\"] = \"test\"\n",
    "\n",
    "# split train -> train/val (80%/20%)\n",
    "df_train = df[df[\"tag\"] == \"train\"].reset_index(drop=True)\n",
    "df_train, df_val = train_test_split(df_train, test_size=0.2, random_state=42)\n",
    "df_train[\"tag\"] = \"train\"\n",
    "df_val[\"tag\"] = \"val\"\n",
    "\n",
    "# concatenate\n",
    "df = pd.concat([df_train, df_val, df_test]).reset_index(drop=True)\n",
    "\n",
    "df.to_csv(\"data.csv\", index=False)"
   ]
  },
  {
   "cell_type": "code",
   "execution_count": 10,
   "metadata": {},
   "outputs": [],
   "source": [
    "dataset.delete()"
   ]
  },
  {
   "cell_type": "code",
   "execution_count": 13,
   "metadata": {},
   "outputs": [
    {
     "name": "stderr",
     "output_type": "stream",
     "text": [
      "\u001b[32m2024-09-29 11:17:10.485\u001b[0m | \u001b[1mINFO    \u001b[0m | \u001b[36m__main__\u001b[0m:\u001b[36m<module>\u001b[0m:\u001b[36m1\u001b[0m - \u001b[1mNumber of samples: 2406\u001b[0m\n",
      "\u001b[32m2024-09-29 11:17:10.487\u001b[0m | \u001b[1mINFO    \u001b[0m | \u001b[36m__main__\u001b[0m:\u001b[36m<module>\u001b[0m:\u001b[36m2\u001b[0m - \u001b[1mNumber of unique labels: 3\u001b[0m\n",
      "\u001b[32m2024-09-29 11:17:10.489\u001b[0m | \u001b[1mINFO    \u001b[0m | \u001b[36m__main__\u001b[0m:\u001b[36m<module>\u001b[0m:\u001b[36m3\u001b[0m - \u001b[1mNumber of Train samples: 1559\u001b[0m\n",
      "\u001b[32m2024-09-29 11:17:10.491\u001b[0m | \u001b[1mINFO    \u001b[0m | \u001b[36m__main__\u001b[0m:\u001b[36m<module>\u001b[0m:\u001b[36m4\u001b[0m - \u001b[1mNumber of Validation samples: 390\u001b[0m\n",
      "\u001b[32m2024-09-29 11:17:10.492\u001b[0m | \u001b[1mINFO    \u001b[0m | \u001b[36m__main__\u001b[0m:\u001b[36m<module>\u001b[0m:\u001b[36m5\u001b[0m - \u001b[1mNumber of Test samples: 457\u001b[0m\n"
     ]
    }
   ],
   "source": [
    "logger.info(f\"Number of samples: {len(df)}\")\n",
    "logger.info(f\"Number of unique labels: {len(df['label'].unique())}\")\n",
    "logger.info(f\"Number of Train samples: {len(df[df['tag'] == 'train'])}\")\n",
    "logger.info(f\"Number of Validation samples: {len(df[df['tag'] == 'val'])}\")\n",
    "logger.info(f\"Number of Test samples: {len(df[df['tag'] == 'test'])}\")\n"
   ]
  },
  {
   "cell_type": "code",
   "execution_count": null,
   "metadata": {},
   "outputs": [],
   "source": []
  }
 ],
 "metadata": {
  "kernelspec": {
   "display_name": "objrecognition",
   "language": "python",
   "name": "python3"
  },
  "language_info": {
   "codemirror_mode": {
    "name": "ipython",
    "version": 3
   },
   "file_extension": ".py",
   "mimetype": "text/x-python",
   "name": "python",
   "nbconvert_exporter": "python",
   "pygments_lexer": "ipython3",
   "version": "3.11.7"
  }
 },
 "nbformat": 4,
 "nbformat_minor": 2
}
