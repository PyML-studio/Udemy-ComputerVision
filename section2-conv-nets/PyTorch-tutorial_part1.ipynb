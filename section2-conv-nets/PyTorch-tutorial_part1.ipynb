{
 "cells": [
  {
   "cell_type": "markdown",
   "metadata": {
    "id": "k_wENk2Fvzkd"
   },
   "source": [
    "## Understanding Tensors:\n",
    " * What are tensors?\n",
    " * Creating tensors in PyTorch\n",
    " * Tensor operations and manipulations"
   ]
  },
  {
   "cell_type": "code",
   "execution_count": null,
   "metadata": {
    "id": "WeZ7wjNAr_DY"
   },
   "outputs": [],
   "source": [
    "from IPython.display import Image as IPythonImage\n",
    "%matplotlib inline\n"
   ]
  },
  {
   "cell_type": "code",
   "execution_count": null,
   "metadata": {
    "colab": {
     "base_uri": "https://localhost:8080/"
    },
    "executionInfo": {
     "elapsed": 4,
     "status": "ok",
     "timestamp": 1704427272699,
     "user": {
      "displayName": "Py ML Studio",
      "userId": "13716245941362182994"
     },
     "user_tz": 360
    },
    "id": "367snvctsvut",
    "outputId": "0bb9ec95-8b59-4624-ce7d-4871ef2ad03c"
   },
   "outputs": [
    {
     "name": "stdout",
     "output_type": "stream",
     "text": [
      "PyTorch version: 2.1.0+cu121\n",
      "Is GPU available: False\n"
     ]
    }
   ],
   "source": [
    "import torch\n",
    "import numpy as np\n",
    "\n",
    "print('PyTorch version:', torch.__version__)\n",
    "\n",
    "print('Is GPU available:', torch.cuda.is_available())\n",
    "\n",
    "np.set_printoptions(precision=3)"
   ]
  },
  {
   "cell_type": "markdown",
   "metadata": {
    "id": "dHybzs28uf5A"
   },
   "source": [
    "## Creating tensors"
   ]
  },
  {
   "cell_type": "code",
   "execution_count": null,
   "metadata": {
    "colab": {
     "base_uri": "https://localhost:8080/"
    },
    "executionInfo": {
     "elapsed": 2,
     "status": "ok",
     "timestamp": 1704427272699,
     "user": {
      "displayName": "Py ML Studio",
      "userId": "13716245941362182994"
     },
     "user_tz": 360
    },
    "id": "eMeDbzxkszd3",
    "outputId": "3b6015f0-510f-4a47-aeb3-09edbd7cdc0d"
   },
   "outputs": [
    {
     "name": "stdout",
     "output_type": "stream",
     "text": [
      "mytensor: tensor([1, 2, 3, 4])\n",
      "mytensor shape: torch.Size([4])\n",
      "mytensor dtype: torch.int64\n",
      "mytensor size: torch.Size([4])\n",
      "mytensor dims: 1\n",
      "mytensor number of elementes: 4\n"
     ]
    }
   ],
   "source": [
    "# creating tensor from a list\n",
    "\n",
    "mylist = [1, 2, 3, 4]\n",
    "mytensor = torch.tensor(mylist)\n",
    "\n",
    "print('mytensor:', mytensor)\n",
    "print('mytensor shape:', mytensor.shape)\n",
    "print('mytensor dtype:', mytensor.dtype)\n",
    "\n",
    "print('mytensor size:', mytensor.size())\n",
    "print('mytensor dims:', mytensor.dim())\n",
    "print('mytensor number of elementes:', mytensor.numel())"
   ]
  },
  {
   "cell_type": "code",
   "execution_count": null,
   "metadata": {
    "colab": {
     "base_uri": "https://localhost:8080/"
    },
    "executionInfo": {
     "elapsed": 142,
     "status": "ok",
     "timestamp": 1704427272840,
     "user": {
      "displayName": "Py ML Studio",
      "userId": "13716245941362182994"
     },
     "user_tz": 360
    },
    "id": "TbKh-GdGt2Rv",
    "outputId": "5cd79fc2-7f33-4118-e757-58173f1cf43a"
   },
   "outputs": [
    {
     "name": "stdout",
     "output_type": "stream",
     "text": [
      "mytensor: tensor([[1, 2],\n",
      "        [3, 4],\n",
      "        [5, 6]])\n",
      "mytensor shape: torch.Size([3, 2])\n",
      "mytensor dtype: torch.int64\n",
      "mytensor size: torch.Size([3, 2])\n",
      "mytensor dims: 2\n",
      "mytensor number of elementes: 6\n"
     ]
    }
   ],
   "source": [
    "# creating tensor from a list\n",
    "\n",
    "mylist = [[1, 2], [3, 4], [5, 6]]\n",
    "mytensor = torch.tensor(mylist)\n",
    "\n",
    "print('mytensor:', mytensor)\n",
    "print('mytensor shape:', mytensor.shape)\n",
    "print('mytensor dtype:', mytensor.dtype)\n",
    "\n",
    "print('mytensor size:', mytensor.size())\n",
    "print('mytensor dims:', mytensor.dim())\n",
    "print('mytensor number of elementes:', mytensor.numel())"
   ]
  },
  {
   "cell_type": "markdown",
   "metadata": {
    "id": "qbesoivYwjWK"
   },
   "source": [
    "### Initializing a tensor of 1s and 0s"
   ]
  },
  {
   "cell_type": "code",
   "execution_count": null,
   "metadata": {
    "colab": {
     "base_uri": "https://localhost:8080/"
    },
    "executionInfo": {
     "elapsed": 6,
     "status": "ok",
     "timestamp": 1704427272840,
     "user": {
      "displayName": "Py ML Studio",
      "userId": "13716245941362182994"
     },
     "user_tz": 360
    },
    "id": "3B74zX75vOsY",
    "outputId": "7a31b166-9c3d-45a6-9c26-1291eef1e599"
   },
   "outputs": [
    {
     "data": {
      "text/plain": [
       "tensor([[1., 1., 1., 1., 1.],\n",
       "        [1., 1., 1., 1., 1.]])"
      ]
     },
     "execution_count": 14,
     "metadata": {},
     "output_type": "execute_result"
    }
   ],
   "source": [
    "a = torch.ones((2, 5))\n",
    "a"
   ]
  },
  {
   "cell_type": "code",
   "execution_count": null,
   "metadata": {
    "colab": {
     "base_uri": "https://localhost:8080/"
    },
    "executionInfo": {
     "elapsed": 6,
     "status": "ok",
     "timestamp": 1704427272841,
     "user": {
      "displayName": "Py ML Studio",
      "userId": "13716245941362182994"
     },
     "user_tz": 360
    },
    "id": "qiUVOjiLwvCT",
    "outputId": "3737b18b-ba88-445e-9a5e-4d78b382fce8"
   },
   "outputs": [
    {
     "data": {
      "text/plain": [
       "tensor([[0., 0., 0.],\n",
       "        [0., 0., 0.],\n",
       "        [0., 0., 0.],\n",
       "        [0., 0., 0.]])"
      ]
     },
     "execution_count": 15,
     "metadata": {},
     "output_type": "execute_result"
    }
   ],
   "source": [
    "b = torch.zeros(4, 3)\n",
    "b"
   ]
  },
  {
   "cell_type": "markdown",
   "metadata": {
    "id": "eo091Amyw4Pe"
   },
   "source": [
    "### Initializing a tensor of random"
   ]
  },
  {
   "cell_type": "code",
   "execution_count": null,
   "metadata": {
    "colab": {
     "base_uri": "https://localhost:8080/"
    },
    "executionInfo": {
     "elapsed": 5,
     "status": "ok",
     "timestamp": 1704427272841,
     "user": {
      "displayName": "Py ML Studio",
      "userId": "13716245941362182994"
     },
     "user_tz": 360
    },
    "id": "J-4n1EvMw3q4",
    "outputId": "16c5fcad-6b66-4183-d304-33745d593a8b"
   },
   "outputs": [
    {
     "data": {
      "text/plain": [
       "tensor([[0.9242, 0.2289],\n",
       "        [0.6437, 0.3083],\n",
       "        [0.3924, 0.5414]])"
      ]
     },
     "execution_count": 16,
     "metadata": {},
     "output_type": "execute_result"
    }
   ],
   "source": [
    "c = torch.rand(3, 2)\n",
    "c"
   ]
  },
  {
   "cell_type": "markdown",
   "metadata": {
    "id": "csUkSwWxvv4Q"
   },
   "source": [
    "### Type conversion (casting)"
   ]
  },
  {
   "cell_type": "code",
   "execution_count": null,
   "metadata": {
    "colab": {
     "base_uri": "https://localhost:8080/"
    },
    "executionInfo": {
     "elapsed": 4,
     "status": "ok",
     "timestamp": 1704427272841,
     "user": {
      "displayName": "Py ML Studio",
      "userId": "13716245941362182994"
     },
     "user_tz": 360
    },
    "id": "ajyFdCZov5PN",
    "outputId": "ecb26d55-6331-4b77-a4dd-28650ea3b08a"
   },
   "outputs": [
    {
     "name": "stdout",
     "output_type": "stream",
     "text": [
      "dtype of tensor c1: torch.float32\n",
      "dtype of tensor c2: torch.float64\n"
     ]
    }
   ],
   "source": [
    "c1 = torch.rand(3, 2)\n",
    "print('dtype of tensor c1:', c1.dtype)\n",
    "\n",
    "c2 = c1.to(torch.float64)\n",
    "print('dtype of tensor c2:', c2.dtype)"
   ]
  },
  {
   "cell_type": "markdown",
   "metadata": {
    "id": "TcRdDh_pyP3l"
   },
   "source": [
    "### Manipulating tensors via shaping operations"
   ]
  },
  {
   "cell_type": "code",
   "execution_count": null,
   "metadata": {
    "colab": {
     "base_uri": "https://localhost:8080/"
    },
    "executionInfo": {
     "elapsed": 3,
     "status": "ok",
     "timestamp": 1704427272841,
     "user": {
      "displayName": "Py ML Studio",
      "userId": "13716245941362182994"
     },
     "user_tz": 360
    },
    "id": "suXh1aX6xwFg",
    "outputId": "cd94bd1a-c4fb-4b69-bb8a-f4f20bb1bff4"
   },
   "outputs": [
    {
     "data": {
      "text/plain": [
       "tensor([ 0,  1,  2,  3,  4,  5,  6,  7,  8,  9, 10, 11, 12, 13, 14, 15, 16, 17,\n",
       "        18, 19, 20, 21, 22, 23])"
      ]
     },
     "execution_count": 18,
     "metadata": {},
     "output_type": "execute_result"
    }
   ],
   "source": [
    "a1 = torch.arange(24)\n",
    "a1"
   ]
  },
  {
   "cell_type": "code",
   "execution_count": null,
   "metadata": {
    "id": "7PT1a0Ewy03T"
   },
   "outputs": [],
   "source": [
    "# reshape to a 2D tensor\n",
    "a2 = a1.reshape(3, 8)"
   ]
  },
  {
   "cell_type": "code",
   "execution_count": null,
   "metadata": {
    "colab": {
     "base_uri": "https://localhost:8080/"
    },
    "executionInfo": {
     "elapsed": 7,
     "status": "ok",
     "timestamp": 1704427273044,
     "user": {
      "displayName": "Py ML Studio",
      "userId": "13716245941362182994"
     },
     "user_tz": 360
    },
    "id": "AKHlvtKZy4c4",
    "outputId": "4c30d613-a232-4925-933f-0e3e7c2dee74"
   },
   "outputs": [
    {
     "name": "stdout",
     "output_type": "stream",
     "text": [
      "a2 shaoe is: torch.Size([3, 8])\n",
      "a2_t shape is: torch.Size([8, 3])\n"
     ]
    },
    {
     "data": {
      "text/plain": [
       "tensor([[ 0,  8, 16],\n",
       "        [ 1,  9, 17],\n",
       "        [ 2, 10, 18],\n",
       "        [ 3, 11, 19],\n",
       "        [ 4, 12, 20],\n",
       "        [ 5, 13, 21],\n",
       "        [ 6, 14, 22],\n",
       "        [ 7, 15, 23]])"
      ]
     },
     "execution_count": 20,
     "metadata": {},
     "output_type": "execute_result"
    }
   ],
   "source": [
    "# transpose a tensor:\n",
    "a2_t = a2.T   # or using a2.transpose(1, 0)\n",
    "print('a2 shaoe is:', a2.shape)\n",
    "print('a2_t shape is:', a2_t.shape)\n",
    "a2_t"
   ]
  },
  {
   "cell_type": "code",
   "execution_count": null,
   "metadata": {
    "colab": {
     "base_uri": "https://localhost:8080/"
    },
    "executionInfo": {
     "elapsed": 6,
     "status": "ok",
     "timestamp": 1704427273044,
     "user": {
      "displayName": "Py ML Studio",
      "userId": "13716245941362182994"
     },
     "user_tz": 360
    },
    "id": "JCc_lvkdzpxa",
    "outputId": "fe30d77b-6b7d-48e4-e542-2cb08d92662a"
   },
   "outputs": [
    {
     "name": "stdout",
     "output_type": "stream",
     "text": [
      "a3 shape: torch.Size([1, 3, 8])\n",
      "a4 shape: torch.Size([3, 8, 1])\n"
     ]
    }
   ],
   "source": [
    "# add a dimension of size 1 at the beginning\n",
    "a3 = a2.unsqueeze(0)\n",
    "print('a3 shape:', a3.shape)\n",
    "\n",
    "# add a dimension of size 1 at the end\n",
    "a4 = a2.unsqueeze(-1)\n",
    "print('a4 shape:', a4.shape)"
   ]
  },
  {
   "cell_type": "code",
   "execution_count": null,
   "metadata": {
    "colab": {
     "base_uri": "https://localhost:8080/"
    },
    "executionInfo": {
     "elapsed": 4,
     "status": "ok",
     "timestamp": 1704427273044,
     "user": {
      "displayName": "Py ML Studio",
      "userId": "13716245941362182994"
     },
     "user_tz": 360
    },
    "id": "90VzUbIgzUHv",
    "outputId": "c2bc2cd4-ecb6-4fca-cc18-2097686f390d"
   },
   "outputs": [
    {
     "name": "stdout",
     "output_type": "stream",
     "text": [
      "a5 shape: torch.Size([3, 8])\n"
     ]
    }
   ],
   "source": [
    "# remove the dimension of size 1:\n",
    "a5 = a4.squeeze()\n",
    "print('a5 shape:', a5.shape)"
   ]
  },
  {
   "cell_type": "markdown",
   "metadata": {
    "id": "a4zWN84F0qMp"
   },
   "source": [
    "## Mathematical operations"
   ]
  },
  {
   "cell_type": "code",
   "execution_count": null,
   "metadata": {
    "colab": {
     "base_uri": "https://localhost:8080/"
    },
    "executionInfo": {
     "elapsed": 145,
     "status": "ok",
     "timestamp": 1704437298515,
     "user": {
      "displayName": "Taban Eslami",
      "userId": "15043225739205886346"
     },
     "user_tz": 360
    },
    "id": "PDpFfFWOzgNF",
    "outputId": "1dda90da-d1b2-4515-fa1b-862594ec1d68"
   },
   "outputs": [
    {
     "name": "stdout",
     "output_type": "stream",
     "text": [
      "x: torch.Size([4, 8])\n",
      "mean_x: tensor(0.5305)\n",
      "sum_x: tensor(16.9775)\n",
      "mean_of_rows: tensor([0.5194, 0.5097, 0.4844, 0.6086])\n",
      "sum_x_columns: tensor([2.2394, 1.7400, 2.7769, 2.6867, 1.0369, 2.1130, 1.9166, 2.4680])\n"
     ]
    }
   ],
   "source": [
    "torch.manual_seed(1)\n",
    "\n",
    "x = torch.rand(4, 8)\n",
    "print('x:', x.shape)\n",
    "\n",
    "# mean of all\n",
    "mean_x = torch.mean(x)  # or using x.mean()\n",
    "print('mean_x:', mean_x)\n",
    "\n",
    "# sum of all\n",
    "sum_x = torch.sum(x)  # or using x.sum()\n",
    "print('sum_x:', sum_x)\n",
    "\n",
    "# mean of rows\n",
    "mean_x_rows = torch.mean(x, dim=1)\n",
    "print('mean_of_rows:', mean_x_rows)\n",
    "\n",
    "# sum of columns\n",
    "sum_x_columns = torch.sum(x, dim=0)\n",
    "print('sum_x_columns:', sum_x_columns)"
   ]
  },
  {
   "cell_type": "code",
   "execution_count": null,
   "metadata": {
    "colab": {
     "base_uri": "https://localhost:8080/"
    },
    "executionInfo": {
     "elapsed": 120,
     "status": "ok",
     "timestamp": 1704437302390,
     "user": {
      "displayName": "Taban Eslami",
      "userId": "15043225739205886346"
     },
     "user_tz": 360
    },
    "id": "szEo6CtSzZsr",
    "outputId": "fac42cfd-6f5d-4dcc-850f-a3d407668561"
   },
   "outputs": [
    {
     "name": "stdout",
     "output_type": "stream",
     "text": [
      "norml1_x: tensor([4.1553, 4.0779, 3.8755, 4.8687])\n",
      "norml1_x: tensor([1.6497, 1.4768, 1.5084, 1.9071])\n"
     ]
    }
   ],
   "source": [
    "# L1 norm:\n",
    "norml1_x = torch.linalg.norm(x, ord=1, dim=-1)\n",
    "print('norml1_x:', norml1_x)\n",
    "\n",
    "# L2 norm:\n",
    "norml1_x = torch.linalg.norm(x, ord=2, dim=-1)\n",
    "print('norml1_x:', norml1_x)"
   ]
  },
  {
   "cell_type": "code",
   "execution_count": null,
   "metadata": {
    "colab": {
     "base_uri": "https://localhost:8080/"
    },
    "executionInfo": {
     "elapsed": 202,
     "status": "ok",
     "timestamp": 1704437305992,
     "user": {
      "displayName": "Taban Eslami",
      "userId": "15043225739205886346"
     },
     "user_tz": 360
    },
    "id": "j9RNgjD_0k0U",
    "outputId": "11761a4b-f4ff-425c-c99d-2b409b5b3e2d"
   },
   "outputs": [
    {
     "name": "stdout",
     "output_type": "stream",
     "text": [
      "x_squared shape is: torch.Size([8, 8])\n",
      "w^Tx shape is: torch.Size([5, 8])\n"
     ]
    }
   ],
   "source": [
    "# matrix multiplication\n",
    "x_squared = torch.matmul(x.T, x)\n",
    "print('x_squared shape is:', x_squared.shape)\n",
    "\n",
    "# w^T x\n",
    "w = torch.normal(mean=0, std=1, size=(4, 5))\n",
    "wx = torch.matmul(w.T, x)\n",
    "print('w^Tx shape is:', wx.shape)"
   ]
  },
  {
   "cell_type": "markdown",
   "metadata": {
    "id": "1wu8cQDD1l_7"
   },
   "source": [
    "## Splitting and concatenating tensors"
   ]
  },
  {
   "cell_type": "code",
   "execution_count": null,
   "metadata": {
    "colab": {
     "base_uri": "https://localhost:8080/"
    },
    "executionInfo": {
     "elapsed": 141,
     "status": "ok",
     "timestamp": 1704437309734,
     "user": {
      "displayName": "Taban Eslami",
      "userId": "15043225739205886346"
     },
     "user_tz": 360
    },
    "id": "PsM7kK1-06aj",
    "outputId": "6c3f209c-81bb-4f15-8120-700eba0f0961"
   },
   "outputs": [
    {
     "name": "stdout",
     "output_type": "stream",
     "text": [
      "x: torch.Size([6])\n",
      "splitted tensors: (tensor([0.7576, 0.2793]), tensor([0.4031, 0.7347]), tensor([0.0293, 0.7999]))\n",
      "splitted tensors: (tensor([0.7576, 0.2793]), tensor([0.4031, 0.7347, 0.0293, 0.7999]))\n"
     ]
    }
   ],
   "source": [
    "x = torch.rand(6)\n",
    "print('x:', x.shape)\n",
    "\n",
    "#  splitting tensors into equally sized chunks\n",
    "x_splits = torch.chunk(x, 3)\n",
    "print('splitted tensors:', x_splits)\n",
    "\n",
    "# splitting tensors into chunks with arbitrary sizes\n",
    "t_splits = torch.split(x, split_size_or_sections=[2, 4])\n",
    "print('splitted tensors:', t_splits)\n"
   ]
  },
  {
   "cell_type": "code",
   "execution_count": null,
   "metadata": {
    "colab": {
     "base_uri": "https://localhost:8080/"
    },
    "executionInfo": {
     "elapsed": 156,
     "status": "ok",
     "timestamp": 1704502297517,
     "user": {
      "displayName": "Taban Eslami",
      "userId": "15043225739205886346"
     },
     "user_tz": 360
    },
    "id": "WlN3ZfHMYi-7",
    "outputId": "4bacca46-7045-4362-c16b-5c2059c89a8d"
   },
   "outputs": [
    {
     "name": "stdout",
     "output_type": "stream",
     "text": [
      "b1: tensor([[0., 0., 0.],\n",
      "        [1., 1., 1.],\n",
      "        [2., 2., 2.]])\n",
      "b2: tensor([[0., 0., 0.],\n",
      "        [1., 1., 1.],\n",
      "        [2., 2., 2.]])\n",
      "c1: tensor([[0., 0., 0., 1., 1., 1., 2., 2., 2.]])\n",
      "c2: tensor([[0., 0., 0., 1., 1., 1., 2., 2., 2.]])\n"
     ]
    }
   ],
   "source": [
    "#  Concatenating two tensors\n",
    "\n",
    "a = torch.zeros((1, 3))\n",
    "\n",
    "#  Concatenating tensors across rows (vertically)\n",
    "b1 = torch.cat((a, a+1, a+2), axis=0)\n",
    "b2 = torch.vstack((a, a+1, a+2))\n",
    "print('b1:', b1)\n",
    "print('b2:', b2)\n",
    "\n",
    "#  Concatenating tensors across columns (horizontally)\n",
    "c1 = torch.cat((a, a+1, a+2), axis=1)\n",
    "c2 = torch.cat((a, a+1, a+2), axis=1)\n",
    "print('c1:', c1)\n",
    "print('c2:', c2)"
   ]
  },
  {
   "cell_type": "markdown",
   "metadata": {
    "id": "R3grYiB7SNzZ"
   },
   "source": [
    "## Input pipeline in PyTorch"
   ]
  },
  {
   "cell_type": "markdown",
   "metadata": {
    "id": "k5eXlskrTIhn"
   },
   "source": [
    "### Creating PyTorch Datasets and DataLoaders from tensors"
   ]
  },
  {
   "cell_type": "code",
   "execution_count": null,
   "metadata": {
    "colab": {
     "base_uri": "https://localhost:8080/"
    },
    "executionInfo": {
     "elapsed": 247,
     "status": "ok",
     "timestamp": 1704509049145,
     "user": {
      "displayName": "Taban Eslami",
      "userId": "15043225739205886346"
     },
     "user_tz": 360
    },
    "id": "hez9xB8VY1GL",
    "outputId": "1f956217-672f-43d8-e663-c159d5bc6efb"
   },
   "outputs": [
    {
     "name": "stdout",
     "output_type": "stream",
     "text": [
      "batch 1: tensor([1, 2])\n",
      "batch 2: tensor([3, 4])\n",
      "batch 3: tensor([5])\n"
     ]
    }
   ],
   "source": [
    "# pytorch DataLoader\n",
    "\n",
    "from torch.utils.data import DataLoader\n",
    "\n",
    "t = torch.tensor([1, 2, 3, 4, 5])\n",
    "data_loader = DataLoader(t, batch_size=2, drop_last=False)\n",
    "\n",
    "for i, batch in enumerate(data_loader, 1):\n",
    "    print(f'batch {i}:', batch)"
   ]
  },
  {
   "cell_type": "markdown",
   "metadata": {
    "id": "t724lrV1Ht00"
   },
   "source": [
    "###  Building a custom dataset"
   ]
  },
  {
   "cell_type": "code",
   "execution_count": null,
   "metadata": {
    "id": "6cp0hIoVqA3l"
   },
   "outputs": [],
   "source": [
    "from torch.utils.data import Dataset\n",
    "\n",
    "#  Pytorch Dataset\n",
    "class CustomDataset(Dataset):\n",
    "    def __init__(self, x, y):\n",
    "        self.x = x\n",
    "        self.y = y\n",
    "\n",
    "    def __len__(self):\n",
    "        return len(self.x)\n",
    "\n",
    "    def __getitem__(self, idx):\n",
    "        return self.x[idx], self.y[idx]\n"
   ]
  },
  {
   "cell_type": "code",
   "execution_count": null,
   "metadata": {
    "colab": {
     "base_uri": "https://localhost:8080/"
    },
    "executionInfo": {
     "elapsed": 125,
     "status": "ok",
     "timestamp": 1704518446061,
     "user": {
      "displayName": "Taban Eslami",
      "userId": "15043225739205886346"
     },
     "user_tz": 360
    },
    "id": "K-mrh16aH0ka",
    "outputId": "8448d8d1-e529-4d4c-e7fa-1b0c861b8f2b"
   },
   "outputs": [
    {
     "name": "stdout",
     "output_type": "stream",
     "text": [
      "batch 1: \n",
      " x: tensor([[0.9389, 0.1708, 0.2383],\n",
      "        [0.1645, 0.9633, 0.8274]]) \n",
      " y: tensor([1, 5])\n",
      "batch 2: \n",
      " x: tensor([[0.0295, 0.8628, 0.5924],\n",
      "        [0.9290, 0.2720, 0.2493]]) \n",
      " y: tensor([0, 4])\n",
      "batch 3: \n",
      " x: tensor([[0.2043, 0.4691, 0.6969],\n",
      "        [0.8180, 0.9919, 0.7719]]) \n",
      " y: tensor([3, 8])\n",
      "batch 4: \n",
      " x: tensor([[0.1798, 0.6175, 0.9004],\n",
      "        [0.1615, 0.3406, 0.9637]]) \n",
      " y: tensor([7, 6])\n",
      "batch 5: \n",
      " x: tensor([[0.8449, 0.5858, 0.5920],\n",
      "        [0.6884, 0.3508, 0.1992]]) \n",
      " y: tensor([2, 9])\n"
     ]
    }
   ],
   "source": [
    "t_x = torch.rand([10, 3], dtype=torch.float32)\n",
    "t_y = torch.arange(10)\n",
    "custom_dataset = CustomDataset(t_x, t_y)\n",
    "\n",
    "\n",
    "data_loader = DataLoader(dataset=custom_dataset, batch_size=2, shuffle=True)\n",
    "\n",
    "for i, (x, y) in enumerate(data_loader, 1):\n",
    "    print(f'batch {i}: \\n',\n",
    "          'x:', x, '\\n y:', y)"
   ]
  },
  {
   "cell_type": "code",
   "execution_count": null,
   "metadata": {
    "id": "B5goP-j3N08S"
   },
   "outputs": [],
   "source": []
  }
 ],
 "metadata": {
  "colab": {
   "provenance": []
  },
  "kernelspec": {
   "display_name": "Python 3 (ipykernel)",
   "language": "python",
   "name": "python3"
  },
  "language_info": {
   "codemirror_mode": {
    "name": "ipython",
    "version": 3
   },
   "file_extension": ".py",
   "mimetype": "text/x-python",
   "name": "python",
   "nbconvert_exporter": "python",
   "pygments_lexer": "ipython3",
   "version": "3.11.5"
  }
 },
 "nbformat": 4,
 "nbformat_minor": 4
}
