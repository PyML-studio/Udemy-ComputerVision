{
 "cells": [
  {
   "cell_type": "markdown",
   "metadata": {},
   "source": [
    "Training YOLO\n",
    "==="
   ]
  },
  {
   "cell_type": "markdown",
   "metadata": {
    "vscode": {
     "languageId": "markdown"
    }
   },
   "source": [
    "### Load pre-trained YOLOv8 model"
   ]
  },
  {
   "cell_type": "code",
   "execution_count": 1,
   "metadata": {},
   "outputs": [],
   "source": [
    "from ultralytics import YOLO\n",
    "\n",
    "# load pretrained model\n",
    "model = YOLO('yolov8n.pt')\n"
   ]
  },
  {
   "cell_type": "markdown",
   "metadata": {},
   "source": [
    "### Make the YAML file"
   ]
  },
  {
   "cell_type": "code",
   "execution_count": 2,
   "metadata": {},
   "outputs": [
    {
     "data": {
      "text/plain": [
       "'/home/pyml/git_vmirly/Udemy-ComputerVision/section4-object-detection'"
      ]
     },
     "execution_count": 2,
     "metadata": {},
     "output_type": "execute_result"
    }
   ],
   "source": [
    "import os\n",
    "os.getcwd()"
   ]
  },
  {
   "cell_type": "code",
   "execution_count": 3,
   "metadata": {},
   "outputs": [
    {
     "name": "stdout",
     "output_type": "stream",
     "text": [
      "Appending to train.yaml\n"
     ]
    }
   ],
   "source": [
    "%%writefile -a train.yaml\n",
    "\n",
    "path: yolo_format/\n",
    "train: images/train/\n",
    "val: images/val/\n",
    "test:\n",
    "\n",
    "# Classes\n",
    "names:\n",
    "    0: person\n",
    "    1: car\n",
    "    2: bicycle\n",
    "    3: motorcycle\n",
    "    4: bus\n",
    "    5: truck\n"
   ]
  },
  {
   "cell_type": "markdown",
   "metadata": {},
   "source": [
    "### Training"
   ]
  },
  {
   "cell_type": "code",
   "execution_count": null,
   "metadata": {},
   "outputs": [],
   "source": [
    "# diable wandb\n",
    "os.environ['WANDB_DISABLED'] = 'true'\n",
    "\n",
    "# run training\n",
    "model.train(\n",
    "    data='train.yaml',\n",
    "    epochs=10,\n",
    "    imgsz=640,\n",
    ")"
   ]
  },
  {
   "cell_type": "markdown",
   "metadata": {},
   "source": [
    "### Inference\n",
    "\n",
    "  * load the trained model"
   ]
  },
  {
   "cell_type": "code",
   "execution_count": 2,
   "metadata": {},
   "outputs": [],
   "source": [
    "# load the trained model\n",
    "model = YOLO(\"runs/detect/train1/weights/best.pt\")\n"
   ]
  },
  {
   "cell_type": "markdown",
   "metadata": {},
   "source": [
    "#### Evluate on the testset"
   ]
  },
  {
   "cell_type": "code",
   "execution_count": null,
   "metadata": {},
   "outputs": [],
   "source": [
    "import json\n",
    "import pandas as pd\n",
    "\n",
    "res_dir = \"results/yolov8\"\n",
    "os.makedirs(res_dir, exist_ok=True)\n",
    "\n",
    "df = pd.read_csv(\"data/data.csv\")\n",
    "df_test = df[df[\"tag\"] == \"test\"]\n",
    "\n",
    "for i, row in df_test.iterrows():\n",
    "    img_path = row[\"imagepath\"]\n",
    "    results = model(img_path)\n",
    "    boxes_xywhn = results[0].boxes.xywhn.cpu().numpy()\n",
    "    labels = results[0].boxes.cls.cpu().numpy()\n",
    "    scores = results[0].boxes.conf.cpu().numpy()\n",
    "    filename = os.path.basename(img_path)\n",
    "\n",
    "    res = {\n",
    "        \"image_path\": img_path,\n",
    "        \"boxes_xywhn\": boxes_xywhn.tolist(),\n",
    "        \"labels\": labels.tolist(),\n",
    "        \"scores\": scores.tolist(),\n",
    "    }\n",
    "\n",
    "    with open(os.path.join(res_dir, filename.replace(\".jpg\", \".json\")), \"wt\") as f:\n",
    "        json.dump(res, f)\n",
    "    #break"
   ]
  }
 ],
 "metadata": {
  "kernelspec": {
   "display_name": "objrecognition",
   "language": "python",
   "name": "python3"
  },
  "language_info": {
   "codemirror_mode": {
    "name": "ipython",
    "version": 3
   },
   "file_extension": ".py",
   "mimetype": "text/x-python",
   "name": "python",
   "nbconvert_exporter": "python",
   "pygments_lexer": "ipython3",
   "version": "3.11.7"
  }
 },
 "nbformat": 4,
 "nbformat_minor": 2
}
