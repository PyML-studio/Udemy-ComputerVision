{
 "cells": [
  {
   "cell_type": "markdown",
   "metadata": {},
   "source": [
    "Preparing data for semantic segmentation\n",
    "==="
   ]
  },
  {
   "cell_type": "code",
   "execution_count": 3,
   "metadata": {},
   "outputs": [
    {
     "name": "stdout",
     "output_type": "stream",
     "text": [
      "Cloning into 'tmp'...\n",
      "remote: Enumerating objects: 2785, done.\u001b[K\n",
      "remote: Total 2785 (delta 0), reused 0 (delta 0), pack-reused 2785 (from 1)\u001b[K\n",
      "Receiving objects: 100% (2785/2785), 340.84 MiB | 34.28 MiB/s, done.\n",
      "Resolving deltas: 100% (81/81), done.\n"
     ]
    }
   ],
   "source": [
    "# Download Data\n",
    "# CamVid Dataset: http://mi.eng.cam.ac.uk/research/projects/VideoRec/CamVid/\n",
    "!git clone https://github.com/alexgkendall/SegNet-Tutorial tmp/"
   ]
  },
  {
   "cell_type": "code",
   "execution_count": 21,
   "metadata": {},
   "outputs": [],
   "source": [
    "import os\n",
    "import cv2\n",
    "import numpy as np\n",
    "import pandas as pd\n",
    "from tqdm import tqdm\n",
    "from loguru import logger"
   ]
  },
  {
   "cell_type": "code",
   "execution_count": 2,
   "metadata": {},
   "outputs": [
    {
     "data": {
      "text/plain": [
       "{0: 1, 1: 2, 2: 3, 3: 4, 4: 5, 5: 6, 6: 7, 7: 8, 8: 9, 9: 10, 10: 11, 11: 0}"
      ]
     },
     "execution_count": 2,
     "metadata": {},
     "output_type": "execute_result"
    }
   ],
   "source": [
    "CLASS_NAMES = [\n",
    "    \"sky\", \"building\", \"pole\", \"road\", \"pavement\",\n",
    "    \"tree\", \"signsymbol\", \"fence\", \"car\",\n",
    "    \"pedestrian\", \"bicyclist\", \"background\"\n",
    "]\n",
    "# original class mapping => background: 11\n",
    "\n",
    "# we need to change that to:\n",
    "# background: 0\n",
    "class_map = {\n",
    "    i: (i+1 if cls != \"background\" else 0)\n",
    "    for i, cls in enumerate(CLASS_NAMES)\n",
    "}\n",
    "\n",
    "class_map"
   ]
  },
  {
   "cell_type": "code",
   "execution_count": 23,
   "metadata": {},
   "outputs": [
    {
     "name": "stderr",
     "output_type": "stream",
     "text": [
      "\u001b[32m2024-10-04 22:50:14.642\u001b[0m | \u001b[1mINFO    \u001b[0m | \u001b[36m__main__\u001b[0m:\u001b[36m<module>\u001b[0m:\u001b[36m15\u001b[0m - \u001b[1m367 training images\u001b[0m\n",
      "\u001b[32m2024-10-04 22:50:14.642\u001b[0m | \u001b[1mINFO    \u001b[0m | \u001b[36m__main__\u001b[0m:\u001b[36m<module>\u001b[0m:\u001b[36m16\u001b[0m - \u001b[1m101 validation images\u001b[0m\n",
      "\u001b[32m2024-10-04 22:50:14.643\u001b[0m | \u001b[1mINFO    \u001b[0m | \u001b[36m__main__\u001b[0m:\u001b[36m<module>\u001b[0m:\u001b[36m17\u001b[0m - \u001b[1m233 test images\u001b[0m\n"
     ]
    }
   ],
   "source": [
    "root_orig_dir = \"tmp/CamVid/\"\n",
    "\n",
    "img_train_dir = os.path.join(root_orig_dir, \"train\")\n",
    "img_val_dir = os.path.join(root_orig_dir, \"val\")\n",
    "img_test_dir = os.path.join(root_orig_dir, \"test\")\n",
    "mask_train_dir = os.path.join(root_orig_dir, \"trainannot\")\n",
    "mask_val_dir = os.path.join(root_orig_dir, \"valannot\")\n",
    "mask_test_dir = os.path.join(root_orig_dir, \"testannot\")\n",
    "\n",
    "list_train_samples = [(f, \"train\") for f in os.listdir(img_train_dir)]\n",
    "list_val_samples = [(f, \"val\") for f in os.listdir(img_val_dir)]\n",
    "list_test_samples = [(f, \"test\") for f in os.listdir(img_test_dir)]\n",
    "list_orig_samples = list_train_samples + list_val_samples + list_test_samples\n",
    "\n",
    "logger.info(f\"{len(list_train_samples)} training images\")\n",
    "logger.info(f\"{len(list_val_samples)} validation images\")\n",
    "logger.info(f\"{len(list_test_samples)} test images\")"
   ]
  },
  {
   "cell_type": "code",
   "execution_count": 24,
   "metadata": {},
   "outputs": [],
   "source": [
    "root_prep_dir = \"data/\"\n",
    "images_dir = os.path.join(root_prep_dir, \"images\")\n",
    "masks_dir = os.path.join(root_prep_dir, \"masks\")\n",
    "os.makedirs(images_dir, exist_ok=True)\n",
    "os.makedirs(masks_dir, exist_ok=True)\n",
    "\n",
    "list_prep_samples = []\n",
    "for filename, split in list_orig_samples:\n",
    "    if split == \"train\":\n",
    "        img_path = os.path.join(img_train_dir, filename)\n",
    "        mask_path = os.path.join(mask_train_dir, filename)\n",
    "    elif split == \"val\":\n",
    "        img_path = os.path.join(img_val_dir, filename)\n",
    "        mask_path = os.path.join(mask_val_dir, filename)\n",
    "    elif split == \"test\":\n",
    "        img_path = os.path.join(img_test_dir, filename)\n",
    "        mask_path = os.path.join(mask_test_dir, filename)\n",
    "\n",
    "    img = cv2.imread(img_path)\n",
    "    mask = cv2.imread(mask_path, cv2.IMREAD_GRAYSCALE)\n",
    "    # remap classes\n",
    "    mask = np.vectorize(class_map.get)(mask)\n",
    "    \n",
    "    img_path = os.path.join(images_dir, filename.replace(\".png\", \".jpg\"))\n",
    "    mask_path = os.path.join(masks_dir, filename)\n",
    "    cv2.imwrite(img_path, img)\n",
    "    cv2.imwrite(mask_path, mask)\n",
    "\n",
    "    list_prep_samples.append({\n",
    "        \"imagepath\": img_path,\n",
    "        \"maskpath\": mask_path,\n",
    "        \"split\": split\n",
    "    })\n",
    "\n",
    "\n",
    "df = pd.DataFrame(list_prep_samples)"
   ]
  },
  {
   "cell_type": "code",
   "execution_count": 25,
   "metadata": {},
   "outputs": [
    {
     "data": {
      "text/html": [
       "<div>\n",
       "<style scoped>\n",
       "    .dataframe tbody tr th:only-of-type {\n",
       "        vertical-align: middle;\n",
       "    }\n",
       "\n",
       "    .dataframe tbody tr th {\n",
       "        vertical-align: top;\n",
       "    }\n",
       "\n",
       "    .dataframe thead th {\n",
       "        text-align: right;\n",
       "    }\n",
       "</style>\n",
       "<table border=\"1\" class=\"dataframe\">\n",
       "  <thead>\n",
       "    <tr style=\"text-align: right;\">\n",
       "      <th></th>\n",
       "      <th>imagepath</th>\n",
       "      <th>maskpath</th>\n",
       "      <th>split</th>\n",
       "    </tr>\n",
       "  </thead>\n",
       "  <tbody>\n",
       "    <tr>\n",
       "      <th>0</th>\n",
       "      <td>data/images/0016E5_07170.jpg</td>\n",
       "      <td>data/masks/0016E5_07170.png</td>\n",
       "      <td>train</td>\n",
       "    </tr>\n",
       "    <tr>\n",
       "      <th>1</th>\n",
       "      <td>data/images/0006R0_f02850.jpg</td>\n",
       "      <td>data/masks/0006R0_f02850.png</td>\n",
       "      <td>train</td>\n",
       "    </tr>\n",
       "    <tr>\n",
       "      <th>2</th>\n",
       "      <td>data/images/0006R0_f02310.jpg</td>\n",
       "      <td>data/masks/0006R0_f02310.png</td>\n",
       "      <td>train</td>\n",
       "    </tr>\n",
       "    <tr>\n",
       "      <th>3</th>\n",
       "      <td>data/images/0006R0_f03390.jpg</td>\n",
       "      <td>data/masks/0006R0_f03390.png</td>\n",
       "      <td>train</td>\n",
       "    </tr>\n",
       "    <tr>\n",
       "      <th>4</th>\n",
       "      <td>data/images/0006R0_f02670.jpg</td>\n",
       "      <td>data/masks/0006R0_f02670.png</td>\n",
       "      <td>train</td>\n",
       "    </tr>\n",
       "  </tbody>\n",
       "</table>\n",
       "</div>"
      ],
      "text/plain": [
       "                       imagepath                      maskpath  split\n",
       "0   data/images/0016E5_07170.jpg   data/masks/0016E5_07170.png  train\n",
       "1  data/images/0006R0_f02850.jpg  data/masks/0006R0_f02850.png  train\n",
       "2  data/images/0006R0_f02310.jpg  data/masks/0006R0_f02310.png  train\n",
       "3  data/images/0006R0_f03390.jpg  data/masks/0006R0_f03390.png  train\n",
       "4  data/images/0006R0_f02670.jpg  data/masks/0006R0_f02670.png  train"
      ]
     },
     "execution_count": 25,
     "metadata": {},
     "output_type": "execute_result"
    }
   ],
   "source": [
    "df.head()"
   ]
  },
  {
   "cell_type": "code",
   "execution_count": 27,
   "metadata": {},
   "outputs": [
    {
     "data": {
      "text/plain": [
       "<Axes: xlabel='split'>"
      ]
     },
     "execution_count": 27,
     "metadata": {},
     "output_type": "execute_result"
    },
    {
     "data": {
      "image/png": "[encoded data removed]",
      "text/plain": [
       "<Figure size 640x480 with 1 Axes>"
      ]
     },
     "metadata": {},
     "output_type": "display_data"
    }
   ],
   "source": [
    "# histogram of splits\n",
    "df[\"split\"].value_counts().plot(kind=\"bar\")"
   ]
  },
  {
   "cell_type": "code",
   "execution_count": 28,
   "metadata": {},
   "outputs": [],
   "source": [
    "df.to_csv(os.path.join(root_prep_dir, \"data.csv\"), index=False)"
   ]
  },
  {
   "cell_type": "code",
   "execution_count": 31,
   "metadata": {},
   "outputs": [],
   "source": [
    "# remove the tmp directory\n",
    "!rm -rf tmp/"
   ]
  },
  {
   "cell_type": "code",
   "execution_count": null,
   "metadata": {},
   "outputs": [],
   "source": []
  }
 ],
 "metadata": {
  "kernelspec": {
   "display_name": "objrecognition",
   "language": "python",
   "name": "python3"
  },
  "language_info": {
   "codemirror_mode": {
    "name": "ipython",
    "version": 3
   },
   "file_extension": ".py",
   "mimetype": "text/x-python",
   "name": "python",
   "nbconvert_exporter": "python",
   "pygments_lexer": "ipython3",
   "version": "3.11.7"
  }
 },
 "nbformat": 4,
 "nbformat_minor": 2
}
